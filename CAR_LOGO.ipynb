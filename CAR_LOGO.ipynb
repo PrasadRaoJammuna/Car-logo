{
 "cells": [
  {
   "cell_type": "code",
   "execution_count": 1,
   "metadata": {},
   "outputs": [
    {
     "name": "stderr",
     "output_type": "stream",
     "text": [
      "Using TensorFlow backend.\n"
     ]
    }
   ],
   "source": [
    "import os\n",
    "import re\n",
    "import numpy as np\n",
    "import matplotlib.pyplot as plt\n",
    "from PIL import Image\n",
    "\n",
    "import cv2\n",
    "import pickle\n",
    "from sklearn.utils import shuffle\n",
    "\n",
    "from sklearn.model_selection import train_test_split\n",
    "from sklearn.preprocessing import OneHotEncoder\n",
    "\n",
    "from keras.preprocessing.image import ImageDataGenerator\n",
    "from keras.models import Sequential\n",
    "from keras.layers import Dropout,Activation,Dense,Flatten\n",
    "from keras.layers import Conv2D,MaxPooling2D\n",
    "from keras.optimizers import Adam,SGD,RMSprop,Adadelta\n",
    "from keras.regularizers import l2\n",
    "from keras.utils import to_categorical\n",
    "from sklearn.metrics import confusion_matrix"
   ]
  },
  {
   "cell_type": "code",
   "execution_count": 2,
   "metadata": {},
   "outputs": [],
   "source": [
    "path = 'F:\\\\CAR\\\\images\\\\'\n",
    "img_x = img_y = 50"
   ]
  },
  {
   "cell_type": "markdown",
   "metadata": {},
   "source": [
    "<img src='Toyota0512_small.jpg'>"
   ]
  },
  {
   "cell_type": "code",
   "execution_count": 3,
   "metadata": {},
   "outputs": [
    {
     "data": {
      "text/plain": [
       "'Toyota'"
      ]
     },
     "execution_count": 3,
     "metadata": {},
     "output_type": "execute_result"
    }
   ],
   "source": [
    "l = 'Toyota0512_small.jpg'\n",
    "\n",
    "re.findall(r'(\\w+?)(\\d+)', l)[0][0]"
   ]
  },
  {
   "cell_type": "code",
   "execution_count": 4,
   "metadata": {},
   "outputs": [
    {
     "data": {
      "text/plain": [
       "'Volvo'"
      ]
     },
     "execution_count": 4,
     "metadata": {},
     "output_type": "execute_result"
    }
   ],
   "source": [
    "d ='Volvo3215_small.jpg'\n",
    "\n",
    "re.findall(r'(\\w+?)(\\d+)', d)[0][0]"
   ]
  },
  {
   "cell_type": "code",
   "execution_count": 5,
   "metadata": {},
   "outputs": [
    {
     "name": "stdout",
     "output_type": "stream",
     "text": [
      "Alfa Romeo10882_small.jpg\n"
     ]
    }
   ],
   "source": [
    "logos =[]\n",
    "\n",
    "for img in os.listdir(path):\n",
    "    print(img)\n",
    "    break"
   ]
  },
  {
   "cell_type": "code",
   "execution_count": 6,
   "metadata": {},
   "outputs": [
    {
     "name": "stdout",
     "output_type": "stream",
     "text": [
      "Romeo\n"
     ]
    }
   ],
   "source": [
    "logos =[]\n",
    "\n",
    "for img in os.listdir(path):\n",
    "    logo = re.findall(r'(\\w+?)(\\d+)',img)[0][0]\n",
    "    print(logo)\n",
    "    break\n",
    "  "
   ]
  },
  {
   "cell_type": "code",
   "execution_count": 7,
   "metadata": {},
   "outputs": [
    {
     "name": "stdout",
     "output_type": "stream",
     "text": [
      "(7500,)\n",
      "[1 0 2 ... 0 0 0]\n"
     ]
    }
   ],
   "source": [
    "for img in os.listdir(path):\n",
    "    i = np.array(np.array(Image.open(path+img).convert(\"RGB\")).flatten(),order='F',dtype='uint8')\n",
    "    print(i.shape)\n",
    "    print(i)\n",
    "    break"
   ]
  },
  {
   "cell_type": "code",
   "execution_count": 8,
   "metadata": {},
   "outputs": [],
   "source": [
    "logos =[]\n",
    "images =[]\n",
    "\n",
    "for img in os.listdir(path):\n",
    "    logo = re.findall(r'(\\w+?)(\\d+)',img)[0][0]\n",
    "    i = np.array(np.array(Image.open(path+img).convert(\"RGB\")).flatten(),order='F',dtype='uint8')\n",
    "    logos.append(logo)\n",
    "    images.append(i)\n",
    "    \n",
    "  "
   ]
  },
  {
   "cell_type": "code",
   "execution_count": 9,
   "metadata": {},
   "outputs": [
    {
     "data": {
      "text/plain": [
       "20778"
      ]
     },
     "execution_count": 9,
     "metadata": {},
     "output_type": "execute_result"
    }
   ],
   "source": [
    "len(logos)"
   ]
  },
  {
   "cell_type": "code",
   "execution_count": 10,
   "metadata": {},
   "outputs": [
    {
     "data": {
      "text/plain": [
       "20778"
      ]
     },
     "execution_count": 10,
     "metadata": {},
     "output_type": "execute_result"
    }
   ],
   "source": [
    "len(images)"
   ]
  },
  {
   "cell_type": "code",
   "execution_count": 11,
   "metadata": {},
   "outputs": [
    {
     "data": {
      "text/plain": [
       "(20778, 7500)"
      ]
     },
     "execution_count": 11,
     "metadata": {},
     "output_type": "execute_result"
    }
   ],
   "source": [
    "np.array(images).shape"
   ]
  },
  {
   "cell_type": "code",
   "execution_count": 12,
   "metadata": {},
   "outputs": [
    {
     "data": {
      "text/plain": [
       "array(['Audi', 'BMW', 'Chevrolet', 'Citroen', 'Dacia', 'Daewoo', 'Dodge',\n",
       "       'Ferrari', 'Fiat', 'Ford', 'Honda', 'Hyundai', 'Jaguar', 'Jeep',\n",
       "       'Kia', 'Lada', 'Lancia', 'Lexus', 'Maserati', 'Mazda', 'Mercedes',\n",
       "       'Mitsubishi', 'Nissan', 'Opel', 'Peugeot', 'Porsche', 'Renault',\n",
       "       'Romeo', 'Rover', 'Saab', 'Seat', 'Skoda', 'Subaru', 'Suzuki',\n",
       "       'Tata', 'Tesla', 'Toyota', 'Volkswagen', 'Volvo'], dtype='<U10')"
      ]
     },
     "execution_count": 12,
     "metadata": {},
     "output_type": "execute_result"
    }
   ],
   "source": [
    "cars = np.unique(np.array(logos))\n",
    "cars"
   ]
  },
  {
   "cell_type": "code",
   "execution_count": 13,
   "metadata": {},
   "outputs": [
    {
     "data": {
      "text/plain": [
       "39"
      ]
     },
     "execution_count": 13,
     "metadata": {},
     "output_type": "execute_result"
    }
   ],
   "source": [
    "len(np.unique(np.array(logos)))"
   ]
  },
  {
   "cell_type": "code",
   "execution_count": 14,
   "metadata": {},
   "outputs": [],
   "source": [
    "X = np.array(images)\n",
    "y = np.array(logos)"
   ]
  },
  {
   "cell_type": "code",
   "execution_count": 15,
   "metadata": {},
   "outputs": [],
   "source": [
    "\n",
    "\n",
    "pickle_out = open(\"X.pickle\",\"wb\")\n",
    "pickle.dump(X,pickle_out)\n",
    "pickle_out.close()\n",
    "\n",
    "pickle_out = open(\"y.pickle\",\"wb\")\n",
    "pickle.dump(y,pickle_out)\n",
    "pickle_out.close()\n"
   ]
  },
  {
   "cell_type": "code",
   "execution_count": 16,
   "metadata": {},
   "outputs": [],
   "source": [
    "x = pickle.load(open(\"X.pickle\",\"rb\"))\n",
    "y = pickle.load(open(\"y.pickle\",'rb'))"
   ]
  },
  {
   "cell_type": "code",
   "execution_count": 17,
   "metadata": {},
   "outputs": [],
   "source": [
    "x = x/255.0"
   ]
  },
  {
   "cell_type": "code",
   "execution_count": 18,
   "metadata": {},
   "outputs": [
    {
     "data": {
      "text/plain": [
       "array([0.94509804, 1.        , 1.        , ..., 1.        , 1.        ,\n",
       "       1.        ])"
      ]
     },
     "execution_count": 18,
     "metadata": {},
     "output_type": "execute_result"
    }
   ],
   "source": [
    "x[1]"
   ]
  },
  {
   "cell_type": "code",
   "execution_count": 19,
   "metadata": {},
   "outputs": [],
   "source": [
    "\n",
    "data, labels = shuffle(x, y, random_state=42) \n",
    "train_data = [data, labels]"
   ]
  },
  {
   "cell_type": "code",
   "execution_count": 20,
   "metadata": {},
   "outputs": [
    {
     "name": "stdout",
     "output_type": "stream",
     "text": [
      "(20778, 7500) (20778,)\n"
     ]
    },
    {
     "data": {
      "image/png": "[encoded data removed]",
      "text/plain": [
       "<Figure size 432x288 with 1 Axes>"
      ]
     },
     "metadata": {
      "needs_background": "light"
     },
     "output_type": "display_data"
    }
   ],
   "source": [
    "i = 5\n",
    "print(train_data[0].shape, train_data[1].shape)\n",
    "plt.imshow(data[i].reshape(img_x, img_y, 3))\n",
    "plt.title(labels[i])\n",
    "plt.show()"
   ]
  },
  {
   "cell_type": "code",
   "execution_count": null,
   "metadata": {},
   "outputs": [],
   "source": []
  },
  {
   "cell_type": "code",
   "execution_count": 21,
   "metadata": {},
   "outputs": [],
   "source": [
    "otr = OneHotEncoder()\n",
    "y = otr.fit_transform(train_data[1].reshape(-1,1)).toarray()"
   ]
  },
  {
   "cell_type": "code",
   "execution_count": 22,
   "metadata": {},
   "outputs": [
    {
     "data": {
      "text/plain": [
       "(20778, 39)"
      ]
     },
     "execution_count": 22,
     "metadata": {},
     "output_type": "execute_result"
    }
   ],
   "source": [
    "y.shape"
   ]
  },
  {
   "cell_type": "code",
   "execution_count": 23,
   "metadata": {},
   "outputs": [],
   "source": [
    "X_train, X_test, y_train, y_test = train_test_split(train_data[0], y, test_size=0.2)"
   ]
  },
  {
   "cell_type": "code",
   "execution_count": 24,
   "metadata": {},
   "outputs": [],
   "source": [
    "X_train = X_train.reshape(X_train.shape[0], img_x, img_y, 3)\n",
    "X_test = X_test.reshape(X_test.shape[0], img_x, img_y, 3)"
   ]
  },
  {
   "cell_type": "code",
   "execution_count": 25,
   "metadata": {},
   "outputs": [
    {
     "data": {
      "text/plain": [
       "(16622, 50, 50, 3)"
      ]
     },
     "execution_count": 25,
     "metadata": {},
     "output_type": "execute_result"
    }
   ],
   "source": [
    "X_train.shape"
   ]
  },
  {
   "cell_type": "code",
   "execution_count": 26,
   "metadata": {},
   "outputs": [
    {
     "data": {
      "text/plain": [
       "(16622, 39)"
      ]
     },
     "execution_count": 26,
     "metadata": {},
     "output_type": "execute_result"
    }
   ],
   "source": [
    "y_train.shape"
   ]
  },
  {
   "cell_type": "code",
   "execution_count": 27,
   "metadata": {},
   "outputs": [
    {
     "data": {
      "text/plain": [
       "(4156, 50, 50, 3)"
      ]
     },
     "execution_count": 27,
     "metadata": {},
     "output_type": "execute_result"
    }
   ],
   "source": [
    "X_test.shape"
   ]
  },
  {
   "cell_type": "code",
   "execution_count": null,
   "metadata": {},
   "outputs": [],
   "source": []
  },
  {
   "cell_type": "code",
   "execution_count": 28,
   "metadata": {},
   "outputs": [
    {
     "name": "stdout",
     "output_type": "stream",
     "text": [
      "(50, 50, 3) (39,)\n"
     ]
    },
    {
     "name": "stderr",
     "output_type": "stream",
     "text": [
      "C:\\Users\\prasa\\Anaconda3\\envs\\tfgpu\\lib\\site-packages\\matplotlib\\text.py:1165: FutureWarning: elementwise comparison failed; returning scalar instead, but in the future will perform elementwise comparison\n",
      "  if s != self._text:\n"
     ]
    },
    {
     "data": {
      "image/png": "[encoded data removed]",
      "text/plain": [
       "<Figure size 432x288 with 1 Axes>"
      ]
     },
     "metadata": {
      "needs_background": "light"
     },
     "output_type": "display_data"
    }
   ],
   "source": [
    "i = 13\n",
    "print(X_train[i].shape, y_train[i].shape)\n",
    "plt.imshow(X_train[i])\n",
    "plt.title(y_train[i])\n",
    "plt.show()"
   ]
  },
  {
   "cell_type": "code",
   "execution_count": null,
   "metadata": {},
   "outputs": [],
   "source": []
  },
  {
   "cell_type": "markdown",
   "metadata": {},
   "source": [
    "# Data Augmentation"
   ]
  },
  {
   "cell_type": "code",
   "execution_count": null,
   "metadata": {},
   "outputs": [],
   "source": []
  },
  {
   "cell_type": "code",
   "execution_count": 29,
   "metadata": {},
   "outputs": [],
   "source": [
    "datagen = ImageDataGenerator(rotation_range=45,width_shift_range=0.3,height_shift_range=0.3,horizontal_flip=True,zoom_range=0.2,vertical_flip=0.3)\n",
    "\n",
    "datagen.fit(X_train)"
   ]
  },
  {
   "cell_type": "code",
   "execution_count": 30,
   "metadata": {},
   "outputs": [
    {
     "name": "stdout",
     "output_type": "stream",
     "text": [
      "(50, 50, 3) (39,)\n"
     ]
    },
    {
     "data": {
      "image/png": "[encoded data removed]",
      "text/plain": [
       "<Figure size 432x288 with 1 Axes>"
      ]
     },
     "metadata": {
      "needs_background": "light"
     },
     "output_type": "display_data"
    }
   ],
   "source": [
    "i = 15\n",
    "print(X_train[i].shape, y_train[i].shape)\n",
    "plt.imshow(X_train[i])\n",
    "plt.title(y_train[i])\n",
    "plt.show()"
   ]
  },
  {
   "cell_type": "code",
   "execution_count": 31,
   "metadata": {},
   "outputs": [
    {
     "data": {
      "text/plain": [
       "39"
      ]
     },
     "execution_count": 31,
     "metadata": {},
     "output_type": "execute_result"
    }
   ],
   "source": [
    "len(cars)"
   ]
  },
  {
   "cell_type": "code",
   "execution_count": null,
   "metadata": {},
   "outputs": [],
   "source": []
  },
  {
   "cell_type": "code",
   "execution_count": 32,
   "metadata": {},
   "outputs": [],
   "source": [
    "batch_size = 128\n",
    "n_classes = len(cars)\n",
    "epochs = 100 #2\n",
    "n_channels =3"
   ]
  },
  {
   "cell_type": "code",
   "execution_count": 33,
   "metadata": {},
   "outputs": [
    {
     "name": "stdout",
     "output_type": "stream",
     "text": [
      "Model: \"sequential_1\"\n",
      "_________________________________________________________________\n",
      "Layer (type)                 Output Shape              Param #   \n",
      "=================================================================\n",
      "conv2d_1 (Conv2D)            (None, 50, 50, 32)        896       \n",
      "_________________________________________________________________\n",
      "max_pooling2d_1 (MaxPooling2 (None, 25, 25, 32)        0         \n",
      "_________________________________________________________________\n",
      "conv2d_2 (Conv2D)            (None, 25, 25, 64)        18496     \n",
      "_________________________________________________________________\n",
      "max_pooling2d_2 (MaxPooling2 (None, 12, 12, 64)        0         \n",
      "_________________________________________________________________\n",
      "conv2d_3 (Conv2D)            (None, 12, 12, 128)       73856     \n",
      "_________________________________________________________________\n",
      "max_pooling2d_3 (MaxPooling2 (None, 6, 6, 128)         0         \n",
      "_________________________________________________________________\n",
      "conv2d_4 (Conv2D)            (None, 6, 6, 256)         295168    \n",
      "_________________________________________________________________\n",
      "max_pooling2d_4 (MaxPooling2 (None, 3, 3, 256)         0         \n",
      "_________________________________________________________________\n",
      "flatten_1 (Flatten)          (None, 2304)              0         \n",
      "_________________________________________________________________\n",
      "dense_1 (Dense)              (None, 128)               295040    \n",
      "_________________________________________________________________\n",
      "dropout_1 (Dropout)          (None, 128)               0         \n",
      "_________________________________________________________________\n",
      "dense_2 (Dense)              (None, 39)                5031      \n",
      "=================================================================\n",
      "Total params: 688,487\n",
      "Trainable params: 688,487\n",
      "Non-trainable params: 0\n",
      "_________________________________________________________________\n"
     ]
    }
   ],
   "source": [
    "\n",
    "model = Sequential()\n",
    "model.add(Conv2D(32, (3,3),input_shape=(img_x,img_y,n_channels),padding=\"same\",activation='relu'))\n",
    "model.add(MaxPooling2D(pool_size=(2,2)))\n",
    "\n",
    "model.add(Conv2D(64, (3,3),padding='same',activation='relu') ,)\n",
    "model.add(MaxPooling2D(pool_size=(2,2)))\n",
    "\n",
    "model.add(Conv2D(128, (3,3),padding='same',activation='relu'))\n",
    "model.add(MaxPooling2D(pool_size=(2,2)))\n",
    "\n",
    "model.add(Conv2D(256, (3,3),padding='same',activation='relu'))\n",
    "model.add(MaxPooling2D(pool_size=(2,2)))\n",
    "\n",
    "model.add(Flatten())\n",
    "\n",
    "model.add(Dense(128, activation='relu'))\n",
    "model.add(Dropout(0.3))\n",
    "\n",
    "\n",
    "model.add(Dense(39,activation='softmax'))\n",
    "\n",
    "model.summary()"
   ]
  },
  {
   "cell_type": "code",
   "execution_count": 34,
   "metadata": {},
   "outputs": [],
   "source": [
    "opt = Adam()\n",
    "\n",
    "model.compile(loss='categorical_crossentropy',optimizer=opt,metrics=['categorical_accuracy'])"
   ]
  },
  {
   "cell_type": "code",
   "execution_count": 35,
   "metadata": {},
   "outputs": [
    {
     "name": "stdout",
     "output_type": "stream",
     "text": [
      "Epoch 1/100\n",
      "129/129 [==============================] - 59s 456ms/step - loss: 3.6141 - categorical_accuracy: 0.0424 - val_loss: 3.5431 - val_categorical_accuracy: 0.0522\n",
      "Epoch 2/100\n",
      "129/129 [==============================] - 11s 82ms/step - loss: 3.4878 - categorical_accuracy: 0.0754 - val_loss: 3.3635 - val_categorical_accuracy: 0.1071\n",
      "Epoch 3/100\n",
      "129/129 [==============================] - 11s 84ms/step - loss: 3.3054 - categorical_accuracy: 0.1246 - val_loss: 3.1700 - val_categorical_accuracy: 0.1667\n",
      "Epoch 4/100\n",
      "129/129 [==============================] - 11s 83ms/step - loss: 3.1606 - categorical_accuracy: 0.1616 - val_loss: 2.9987 - val_categorical_accuracy: 0.2108\n",
      "Epoch 5/100\n",
      "129/129 [==============================] - 11s 86ms/step - loss: 3.0574 - categorical_accuracy: 0.1892 - val_loss: 2.8800 - val_categorical_accuracy: 0.2293\n",
      "Epoch 6/100\n",
      "129/129 [==============================] - 12s 89ms/step - loss: 2.9620 - categorical_accuracy: 0.2127 - val_loss: 2.7701 - val_categorical_accuracy: 0.2589\n",
      "Epoch 7/100\n",
      "129/129 [==============================] - 10s 79ms/step - loss: 2.8651 - categorical_accuracy: 0.2349 - val_loss: 2.6407 - val_categorical_accuracy: 0.2911\n",
      "Epoch 8/100\n",
      "129/129 [==============================] - 10s 79ms/step - loss: 2.7699 - categorical_accuracy: 0.2580 - val_loss: 2.5787 - val_categorical_accuracy: 0.3049\n",
      "Epoch 9/100\n",
      "129/129 [==============================] - 11s 84ms/step - loss: 2.7084 - categorical_accuracy: 0.2779 - val_loss: 2.4806 - val_categorical_accuracy: 0.3371\n",
      "Epoch 10/100\n",
      "129/129 [==============================] - 10s 78ms/step - loss: 2.6370 - categorical_accuracy: 0.3004 - val_loss: 2.4498 - val_categorical_accuracy: 0.3530\n",
      "Epoch 11/100\n",
      "129/129 [==============================] - 10s 78ms/step - loss: 2.5478 - categorical_accuracy: 0.3241 - val_loss: 2.2634 - val_categorical_accuracy: 0.3989\n",
      "Epoch 12/100\n",
      "129/129 [==============================] - 10s 77ms/step - loss: 2.5065 - categorical_accuracy: 0.3322 - val_loss: 2.2033 - val_categorical_accuracy: 0.4052\n",
      "Epoch 13/100\n",
      "129/129 [==============================] - 10s 77ms/step - loss: 2.4153 - categorical_accuracy: 0.3533 - val_loss: 2.1486 - val_categorical_accuracy: 0.4293\n",
      "Epoch 14/100\n",
      "129/129 [==============================] - 10s 76ms/step - loss: 2.3550 - categorical_accuracy: 0.3689 - val_loss: 2.2133 - val_categorical_accuracy: 0.4230\n",
      "Epoch 15/100\n",
      "129/129 [==============================] - 10s 77ms/step - loss: 2.2824 - categorical_accuracy: 0.3855 - val_loss: 2.0564 - val_categorical_accuracy: 0.4639\n",
      "Epoch 16/100\n",
      "129/129 [==============================] - 10s 78ms/step - loss: 2.2293 - categorical_accuracy: 0.4039 - val_loss: 1.9571 - val_categorical_accuracy: 0.4860\n",
      "Epoch 17/100\n",
      "129/129 [==============================] - 10s 76ms/step - loss: 2.1704 - categorical_accuracy: 0.4284 - val_loss: 1.9442 - val_categorical_accuracy: 0.4829\n",
      "Epoch 18/100\n",
      "129/129 [==============================] - 10s 77ms/step - loss: 2.1138 - categorical_accuracy: 0.4354 - val_loss: 1.8445 - val_categorical_accuracy: 0.5144\n",
      "Epoch 19/100\n",
      "129/129 [==============================] - 10s 80ms/step - loss: 2.0535 - categorical_accuracy: 0.4490 - val_loss: 1.8587 - val_categorical_accuracy: 0.5229\n",
      "Epoch 20/100\n",
      "129/129 [==============================] - 10s 77ms/step - loss: 2.0297 - categorical_accuracy: 0.4546 - val_loss: 1.7275 - val_categorical_accuracy: 0.5423\n",
      "Epoch 21/100\n",
      "129/129 [==============================] - 10s 77ms/step - loss: 1.9691 - categorical_accuracy: 0.4736 - val_loss: 1.7523 - val_categorical_accuracy: 0.5450\n",
      "Epoch 22/100\n",
      "129/129 [==============================] - 10s 76ms/step - loss: 1.9306 - categorical_accuracy: 0.4834 - val_loss: 1.6588 - val_categorical_accuracy: 0.5693\n",
      "Epoch 23/100\n",
      "129/129 [==============================] - 11s 83ms/step - loss: 1.8653 - categorical_accuracy: 0.4984 - val_loss: 1.6079 - val_categorical_accuracy: 0.5837\n",
      "Epoch 24/100\n",
      "129/129 [==============================] - 10s 78ms/step - loss: 1.8550 - categorical_accuracy: 0.4996 - val_loss: 1.6087 - val_categorical_accuracy: 0.5828\n",
      "Epoch 25/100\n",
      "129/129 [==============================] - 10s 76ms/step - loss: 1.8194 - categorical_accuracy: 0.5106 - val_loss: 1.6044 - val_categorical_accuracy: 0.5825\n",
      "Epoch 26/100\n",
      "129/129 [==============================] - 10s 76ms/step - loss: 1.7740 - categorical_accuracy: 0.5231 - val_loss: 1.4926 - val_categorical_accuracy: 0.6083\n",
      "Epoch 27/100\n",
      "129/129 [==============================] - 11s 82ms/step - loss: 1.7289 - categorical_accuracy: 0.5364 - val_loss: 1.5551 - val_categorical_accuracy: 0.5991\n",
      "Epoch 28/100\n",
      "129/129 [==============================] - 11s 85ms/step - loss: 1.7332 - categorical_accuracy: 0.5347 - val_loss: 1.5425 - val_categorical_accuracy: 0.6083\n",
      "Epoch 29/100\n",
      "129/129 [==============================] - 12s 90ms/step - loss: 1.6862 - categorical_accuracy: 0.5461 - val_loss: 1.4612 - val_categorical_accuracy: 0.6261\n",
      "Epoch 30/100\n",
      "129/129 [==============================] - 18s 139ms/step - loss: 1.6579 - categorical_accuracy: 0.5505 - val_loss: 1.5118 - val_categorical_accuracy: 0.6232\n",
      "Epoch 31/100\n",
      "129/129 [==============================] - 17s 133ms/step - loss: 1.6356 - categorical_accuracy: 0.5607 - val_loss: 1.4450 - val_categorical_accuracy: 0.6345\n",
      "Epoch 32/100\n",
      "129/129 [==============================] - 17s 130ms/step - loss: 1.5973 - categorical_accuracy: 0.5653 - val_loss: 1.3815 - val_categorical_accuracy: 0.6458\n",
      "Epoch 33/100\n",
      "129/129 [==============================] - 17s 131ms/step - loss: 1.5987 - categorical_accuracy: 0.5697 - val_loss: 1.4043 - val_categorical_accuracy: 0.6391\n",
      "Epoch 34/100\n",
      "129/129 [==============================] - 17s 134ms/step - loss: 1.5384 - categorical_accuracy: 0.5822 - val_loss: 1.3770 - val_categorical_accuracy: 0.6379\n",
      "Epoch 35/100\n",
      "129/129 [==============================] - 17s 129ms/step - loss: 1.5518 - categorical_accuracy: 0.5816 - val_loss: 1.3403 - val_categorical_accuracy: 0.6639\n",
      "Epoch 36/100\n",
      "129/129 [==============================] - 17s 130ms/step - loss: 1.5039 - categorical_accuracy: 0.5972 - val_loss: 1.3571 - val_categorical_accuracy: 0.6574\n",
      "Epoch 37/100\n",
      "129/129 [==============================] - 16s 124ms/step - loss: 1.4898 - categorical_accuracy: 0.5992 - val_loss: 1.3483 - val_categorical_accuracy: 0.6518\n",
      "Epoch 38/100\n",
      "129/129 [==============================] - 8s 62ms/step - loss: 1.4899 - categorical_accuracy: 0.6013 - val_loss: 1.3039 - val_categorical_accuracy: 0.6701\n",
      "Epoch 39/100\n",
      "129/129 [==============================] - 10s 75ms/step - loss: 1.4486 - categorical_accuracy: 0.6099 - val_loss: 1.3143 - val_categorical_accuracy: 0.6711\n",
      "Epoch 40/100\n",
      "129/129 [==============================] - 10s 77ms/step - loss: 1.4532 - categorical_accuracy: 0.6100 - val_loss: 1.3303 - val_categorical_accuracy: 0.6583\n",
      "Epoch 41/100\n",
      "129/129 [==============================] - 10s 76ms/step - loss: 1.4316 - categorical_accuracy: 0.6156 - val_loss: 1.3232 - val_categorical_accuracy: 0.6648\n",
      "Epoch 42/100\n",
      "129/129 [==============================] - 10s 76ms/step - loss: 1.4135 - categorical_accuracy: 0.6168 - val_loss: 1.2595 - val_categorical_accuracy: 0.6718\n",
      "Epoch 43/100\n",
      "129/129 [==============================] - 10s 77ms/step - loss: 1.4040 - categorical_accuracy: 0.6242 - val_loss: 1.2729 - val_categorical_accuracy: 0.6776\n",
      "Epoch 44/100\n",
      "129/129 [==============================] - 10s 78ms/step - loss: 1.3501 - categorical_accuracy: 0.6334 - val_loss: 1.2678 - val_categorical_accuracy: 0.6749\n",
      "Epoch 45/100\n",
      "129/129 [==============================] - 11s 82ms/step - loss: 1.3711 - categorical_accuracy: 0.6287 - val_loss: 1.2151 - val_categorical_accuracy: 0.6932\n",
      "Epoch 46/100\n",
      "129/129 [==============================] - 10s 77ms/step - loss: 1.3528 - categorical_accuracy: 0.6379 - val_loss: 1.2895 - val_categorical_accuracy: 0.6708\n",
      "Epoch 47/100\n",
      "129/129 [==============================] - 10s 79ms/step - loss: 1.3340 - categorical_accuracy: 0.6417 - val_loss: 1.2075 - val_categorical_accuracy: 0.6944\n",
      "Epoch 48/100\n",
      "129/129 [==============================] - 10s 76ms/step - loss: 1.3256 - categorical_accuracy: 0.6440 - val_loss: 1.3330 - val_categorical_accuracy: 0.6682\n",
      "Epoch 49/100\n"
     ]
    },
    {
     "name": "stdout",
     "output_type": "stream",
     "text": [
      "129/129 [==============================] - 10s 75ms/step - loss: 1.3022 - categorical_accuracy: 0.6457 - val_loss: 1.2670 - val_categorical_accuracy: 0.6821\n",
      "Epoch 50/100\n",
      "129/129 [==============================] - 10s 76ms/step - loss: 1.3043 - categorical_accuracy: 0.6480 - val_loss: 1.3053 - val_categorical_accuracy: 0.6701\n",
      "Epoch 51/100\n",
      "129/129 [==============================] - 10s 76ms/step - loss: 1.2917 - categorical_accuracy: 0.6496 - val_loss: 1.2004 - val_categorical_accuracy: 0.6971\n",
      "Epoch 52/100\n",
      "129/129 [==============================] - 10s 75ms/step - loss: 1.2708 - categorical_accuracy: 0.6545 - val_loss: 1.2812 - val_categorical_accuracy: 0.6735\n",
      "Epoch 53/100\n",
      "129/129 [==============================] - 10s 80ms/step - loss: 1.2775 - categorical_accuracy: 0.6550 - val_loss: 1.1871 - val_categorical_accuracy: 0.7050\n",
      "Epoch 54/100\n",
      "129/129 [==============================] - 12s 97ms/step - loss: 1.2705 - categorical_accuracy: 0.6564 - val_loss: 1.2726 - val_categorical_accuracy: 0.6841\n",
      "Epoch 55/100\n",
      "129/129 [==============================] - 12s 96ms/step - loss: 1.2232 - categorical_accuracy: 0.6699 - val_loss: 1.1804 - val_categorical_accuracy: 0.7115\n",
      "Epoch 56/100\n",
      "129/129 [==============================] - 12s 96ms/step - loss: 1.2345 - categorical_accuracy: 0.6669 - val_loss: 1.1770 - val_categorical_accuracy: 0.7074\n",
      "Epoch 57/100\n",
      "129/129 [==============================] - 13s 103ms/step - loss: 1.2451 - categorical_accuracy: 0.6675 - val_loss: 1.1774 - val_categorical_accuracy: 0.7028\n",
      "Epoch 58/100\n",
      "129/129 [==============================] - 16s 120ms/step - loss: 1.2073 - categorical_accuracy: 0.6722 - val_loss: 1.1541 - val_categorical_accuracy: 0.7074\n",
      "Epoch 59/100\n",
      "129/129 [==============================] - 10s 77ms/step - loss: 1.2029 - categorical_accuracy: 0.6703 - val_loss: 1.1911 - val_categorical_accuracy: 0.7062\n",
      "Epoch 60/100\n",
      "129/129 [==============================] - 10s 76ms/step - loss: 1.2188 - categorical_accuracy: 0.6703 - val_loss: 1.2439 - val_categorical_accuracy: 0.6848\n",
      "Epoch 61/100\n",
      "129/129 [==============================] - 10s 76ms/step - loss: 1.1846 - categorical_accuracy: 0.6812 - val_loss: 1.1483 - val_categorical_accuracy: 0.7064\n",
      "Epoch 62/100\n",
      "129/129 [==============================] - 10s 76ms/step - loss: 1.1606 - categorical_accuracy: 0.6830 - val_loss: 1.2557 - val_categorical_accuracy: 0.6983\n",
      "Epoch 63/100\n",
      "129/129 [==============================] - 10s 75ms/step - loss: 1.1688 - categorical_accuracy: 0.6846 - val_loss: 1.1708 - val_categorical_accuracy: 0.7141\n",
      "Epoch 64/100\n",
      "129/129 [==============================] - 10s 81ms/step - loss: 1.1496 - categorical_accuracy: 0.6881 - val_loss: 1.1343 - val_categorical_accuracy: 0.7161\n",
      "Epoch 65/100\n",
      "129/129 [==============================] - 11s 83ms/step - loss: 1.1623 - categorical_accuracy: 0.6866 - val_loss: 1.1098 - val_categorical_accuracy: 0.7255\n",
      "Epoch 66/100\n",
      "129/129 [==============================] - 11s 85ms/step - loss: 1.1381 - categorical_accuracy: 0.6922 - val_loss: 1.1078 - val_categorical_accuracy: 0.7238\n",
      "Epoch 67/100\n",
      "129/129 [==============================] - 12s 89ms/step - loss: 1.1430 - categorical_accuracy: 0.6889 - val_loss: 1.1007 - val_categorical_accuracy: 0.7185\n",
      "Epoch 68/100\n",
      "129/129 [==============================] - 12s 92ms/step - loss: 1.1060 - categorical_accuracy: 0.7006 - val_loss: 1.1440 - val_categorical_accuracy: 0.7180\n",
      "Epoch 69/100\n",
      "129/129 [==============================] - 12s 97ms/step - loss: 1.1332 - categorical_accuracy: 0.6918 - val_loss: 1.1170 - val_categorical_accuracy: 0.7163\n",
      "Epoch 70/100\n",
      "129/129 [==============================] - 12s 93ms/step - loss: 1.1027 - categorical_accuracy: 0.7040 - val_loss: 1.1895 - val_categorical_accuracy: 0.7117\n",
      "Epoch 71/100\n",
      "129/129 [==============================] - 11s 86ms/step - loss: 1.1167 - categorical_accuracy: 0.6949 - val_loss: 1.1049 - val_categorical_accuracy: 0.7197\n",
      "Epoch 72/100\n",
      "129/129 [==============================] - 11s 86ms/step - loss: 1.0939 - categorical_accuracy: 0.7024 - val_loss: 1.1054 - val_categorical_accuracy: 0.7274\n",
      "Epoch 73/100\n",
      "129/129 [==============================] - 11s 85ms/step - loss: 1.0898 - categorical_accuracy: 0.7006 - val_loss: 1.0960 - val_categorical_accuracy: 0.7305\n",
      "Epoch 74/100\n",
      "129/129 [==============================] - 11s 83ms/step - loss: 1.0711 - categorical_accuracy: 0.7068 - val_loss: 1.1309 - val_categorical_accuracy: 0.7243\n",
      "Epoch 75/100\n",
      "129/129 [==============================] - 11s 85ms/step - loss: 1.0650 - categorical_accuracy: 0.7111 - val_loss: 1.1440 - val_categorical_accuracy: 0.7187\n",
      "Epoch 76/100\n",
      "129/129 [==============================] - 10s 81ms/step - loss: 1.0703 - categorical_accuracy: 0.7083 - val_loss: 1.1050 - val_categorical_accuracy: 0.7247\n",
      "Epoch 77/100\n",
      "129/129 [==============================] - 10s 77ms/step - loss: 1.0485 - categorical_accuracy: 0.7143 - val_loss: 1.0853 - val_categorical_accuracy: 0.7310\n",
      "Epoch 78/100\n",
      "129/129 [==============================] - 10s 77ms/step - loss: 1.0629 - categorical_accuracy: 0.7119 - val_loss: 1.1442 - val_categorical_accuracy: 0.7271\n",
      "Epoch 79/100\n",
      "129/129 [==============================] - 10s 79ms/step - loss: 1.0337 - categorical_accuracy: 0.7196 - val_loss: 1.0828 - val_categorical_accuracy: 0.7382\n",
      "Epoch 80/100\n",
      "129/129 [==============================] - 10s 81ms/step - loss: 1.0246 - categorical_accuracy: 0.7173 - val_loss: 1.0649 - val_categorical_accuracy: 0.7409\n",
      "Epoch 81/100\n",
      "129/129 [==============================] - 11s 83ms/step - loss: 1.0291 - categorical_accuracy: 0.7214 - val_loss: 1.1065 - val_categorical_accuracy: 0.7235\n",
      "Epoch 82/100\n",
      "129/129 [==============================] - 11s 82ms/step - loss: 1.0229 - categorical_accuracy: 0.7239 - val_loss: 1.0862 - val_categorical_accuracy: 0.7295\n",
      "Epoch 83/100\n",
      "129/129 [==============================] - 10s 80ms/step - loss: 1.0445 - categorical_accuracy: 0.7166 - val_loss: 1.0609 - val_categorical_accuracy: 0.7428\n",
      "Epoch 84/100\n",
      "129/129 [==============================] - 10s 80ms/step - loss: 1.0123 - categorical_accuracy: 0.7242 - val_loss: 1.1412 - val_categorical_accuracy: 0.7267\n",
      "Epoch 85/100\n",
      "129/129 [==============================] - 11s 83ms/step - loss: 1.0102 - categorical_accuracy: 0.7234 - val_loss: 1.0995 - val_categorical_accuracy: 0.7363\n",
      "Epoch 86/100\n",
      "129/129 [==============================] - 11s 82ms/step - loss: 0.9937 - categorical_accuracy: 0.7287 - val_loss: 1.1120 - val_categorical_accuracy: 0.7312\n",
      "Epoch 87/100\n",
      "129/129 [==============================] - 11s 83ms/step - loss: 1.0264 - categorical_accuracy: 0.7221 - val_loss: 1.0682 - val_categorical_accuracy: 0.7334\n",
      "Epoch 88/100\n",
      "129/129 [==============================] - 11s 88ms/step - loss: 0.9895 - categorical_accuracy: 0.7323 - val_loss: 1.0958 - val_categorical_accuracy: 0.7365\n",
      "Epoch 89/100\n",
      "129/129 [==============================] - 11s 85ms/step - loss: 1.0044 - categorical_accuracy: 0.7248 - val_loss: 1.0839 - val_categorical_accuracy: 0.7428\n",
      "Epoch 90/100\n",
      "129/129 [==============================] - 11s 85ms/step - loss: 0.9875 - categorical_accuracy: 0.7269 - val_loss: 1.0469 - val_categorical_accuracy: 0.7442\n",
      "Epoch 91/100\n",
      "129/129 [==============================] - 12s 90ms/step - loss: 0.9697 - categorical_accuracy: 0.7354 - val_loss: 1.1133 - val_categorical_accuracy: 0.7385\n",
      "Epoch 92/100\n",
      "129/129 [==============================] - 12s 90ms/step - loss: 0.9896 - categorical_accuracy: 0.7268 - val_loss: 1.1048 - val_categorical_accuracy: 0.7385\n",
      "Epoch 93/100\n",
      "129/129 [==============================] - 11s 87ms/step - loss: 0.9781 - categorical_accuracy: 0.7323 - val_loss: 1.0821 - val_categorical_accuracy: 0.7406\n",
      "Epoch 94/100\n",
      "129/129 [==============================] - 11s 86ms/step - loss: 0.9693 - categorical_accuracy: 0.7398 - val_loss: 1.0776 - val_categorical_accuracy: 0.7320\n",
      "Epoch 95/100\n",
      "129/129 [==============================] - 11s 87ms/step - loss: 0.9591 - categorical_accuracy: 0.7371 - val_loss: 1.0255 - val_categorical_accuracy: 0.7478\n",
      "Epoch 96/100\n",
      "129/129 [==============================] - 11s 82ms/step - loss: 0.9643 - categorical_accuracy: 0.7373 - val_loss: 1.0335 - val_categorical_accuracy: 0.7464\n",
      "Epoch 97/100\n"
     ]
    },
    {
     "name": "stdout",
     "output_type": "stream",
     "text": [
      "129/129 [==============================] - 10s 79ms/step - loss: 0.9426 - categorical_accuracy: 0.7413 - val_loss: 1.0518 - val_categorical_accuracy: 0.7464\n",
      "Epoch 98/100\n",
      "129/129 [==============================] - 10s 80ms/step - loss: 0.9531 - categorical_accuracy: 0.7364 - val_loss: 1.0301 - val_categorical_accuracy: 0.7526\n",
      "Epoch 99/100\n",
      "129/129 [==============================] - 10s 78ms/step - loss: 0.9504 - categorical_accuracy: 0.7385 - val_loss: 1.0747 - val_categorical_accuracy: 0.7486\n",
      "Epoch 100/100\n",
      "129/129 [==============================] - 10s 80ms/step - loss: 0.9303 - categorical_accuracy: 0.7434 - val_loss: 1.0682 - val_categorical_accuracy: 0.7469\n"
     ]
    },
    {
     "data": {
      "text/plain": [
       "<keras.callbacks.callbacks.History at 0x22688ed5f48>"
      ]
     },
     "execution_count": 35,
     "metadata": {},
     "output_type": "execute_result"
    }
   ],
   "source": [
    "model.fit_generator(datagen.flow(X_train,y_train,batch_size=batch_size,shuffle=True,seed=100),steps_per_epoch=X_train.shape[0]//batch_size,epochs=epochs,validation_data=(X_test,y_test),workers=4)"
   ]
  },
  {
   "cell_type": "code",
   "execution_count": 36,
   "metadata": {},
   "outputs": [
    {
     "name": "stdout",
     "output_type": "stream",
     "text": [
      "4156/4156 [==============================] - 1s 328us/step\n",
      "Accuracy test: 74.69%\n"
     ]
    }
   ],
   "source": [
    "scores = model.evaluate(X_test, y_test) \n",
    "print(\"Accuracy test: %.2f%%\" % (scores[1]*100))"
   ]
  },
  {
   "cell_type": "code",
   "execution_count": 49,
   "metadata": {},
   "outputs": [
    {
     "data": {
      "text/plain": [
       "array([[4.5272522e-11, 1.3408184e-07, 9.7902243e-14, 1.2159680e-10,\n",
       "        1.3255300e-07, 7.7040874e-10, 3.4493533e-14, 6.4957935e-12,\n",
       "        3.3636539e-16, 1.8740480e-17, 3.6622585e-09, 3.8780023e-08,\n",
       "        4.2807728e-13, 6.5219823e-14, 2.4658367e-11, 1.2009485e-11,\n",
       "        3.4690237e-09, 3.1977750e-05, 3.5578243e-13, 5.7091434e-05,\n",
       "        9.9942833e-01, 4.6194357e-10, 7.3725490e-14, 2.8530187e-09,\n",
       "        1.3397433e-13, 1.7117285e-13, 4.8208149e-04, 9.6383522e-17,\n",
       "        7.0290745e-14, 5.4712951e-14, 3.1993528e-16, 1.0920510e-10,\n",
       "        1.5269288e-11, 1.0937455e-14, 1.1052200e-08, 1.3110080e-07,\n",
       "        1.8425278e-10, 7.0322997e-12, 1.0783805e-12]], dtype=float32)"
      ]
     },
     "execution_count": 49,
     "metadata": {},
     "output_type": "execute_result"
    }
   ],
   "source": [
    "image = np.expand_dims(X_test[100], axis=0)\n",
    "z = model.predict(image)\n",
    "z"
   ]
  },
  {
   "cell_type": "code",
   "execution_count": 50,
   "metadata": {},
   "outputs": [
    {
     "data": {
      "text/plain": [
       "0.99942833"
      ]
     },
     "execution_count": 50,
     "metadata": {},
     "output_type": "execute_result"
    }
   ],
   "source": [
    "z.max()"
   ]
  },
  {
   "cell_type": "code",
   "execution_count": 51,
   "metadata": {},
   "outputs": [
    {
     "data": {
      "text/plain": [
       "array([20], dtype=int64)"
      ]
     },
     "execution_count": 51,
     "metadata": {},
     "output_type": "execute_result"
    }
   ],
   "source": [
    "model.predict_classes(image)"
   ]
  },
  {
   "cell_type": "code",
   "execution_count": 52,
   "metadata": {},
   "outputs": [
    {
     "data": {
      "text/plain": [
       "'Mercedes'"
      ]
     },
     "execution_count": 52,
     "metadata": {},
     "output_type": "execute_result"
    }
   ],
   "source": [
    "cars[20]"
   ]
  },
  {
   "cell_type": "code",
   "execution_count": 53,
   "metadata": {},
   "outputs": [
    {
     "data": {
      "image/png": "[encoded data removed]",
      "text/plain": [
       "<Figure size 432x288 with 1 Axes>"
      ]
     },
     "metadata": {
      "needs_background": "light"
     },
     "output_type": "display_data"
    }
   ],
   "source": [
    "plt.imshow(X_test[100])\n",
    "plt.show()"
   ]
  },
  {
   "cell_type": "code",
   "execution_count": null,
   "metadata": {},
   "outputs": [],
   "source": []
  }
 ],
 "metadata": {
  "kernelspec": {
   "display_name": "Python 3",
   "language": "python",
   "name": "python3"
  },
  "language_info": {
   "codemirror_mode": {
    "name": "ipython",
    "version": 3
   },
   "file_extension": ".py",
   "mimetype": "text/x-python",
   "name": "python",
   "nbconvert_exporter": "python",
   "pygments_lexer": "ipython3",
   "version": "3.7.7"
  }
 },
 "nbformat": 4,
 "nbformat_minor": 4
}
